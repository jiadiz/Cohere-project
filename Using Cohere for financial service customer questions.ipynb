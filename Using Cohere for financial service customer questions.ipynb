{
 "cells": [
  {
   "cell_type": "markdown",
   "id": "d9e44d5d",
   "metadata": {},
   "source": [
    "# I am impressed with Cohere's LLM classification and embedding ability"
   ]
  },
  {
   "cell_type": "code",
   "execution_count": 33,
   "id": "25ddfe6f",
   "metadata": {},
   "outputs": [],
   "source": [
    "import pandas as pd\n",
    "\n",
    "api_key = pd.read_csv('API_key.txt').columns[0]"
   ]
  },
  {
   "cell_type": "code",
   "execution_count": 34,
   "id": "4bc51327",
   "metadata": {},
   "outputs": [],
   "source": [
    "import cohere  \n",
    "co = cohere.Client(api_key)"
   ]
  },
  {
   "cell_type": "markdown",
   "id": "c6123bed",
   "metadata": {},
   "source": [
    "## Create training data for financial services"
   ]
  },
  {
   "cell_type": "code",
   "execution_count": 35,
   "id": "de5a0814",
   "metadata": {},
   "outputs": [],
   "source": [
    "from cohere.responses.classify import Example\n",
    "\n",
    "\n",
    "examples=[\n",
    "  Example(\"What are the current interest rates for a savings account?\", \"Account Information\"),\n",
    "  Example(\"How can I check my account balance online?\", \"Account Information\"),\n",
    "  Example(\"Can you help me understand my last transaction details?\", \"Account Information\"),\n",
    "  Example(\"What is the process for opening a new savings account?\", \"Account Information\"),\n",
    "  Example(\"Can you provide me with my account statement for the last 6 months?\", \"Account Information\"),\n",
    "  Example(\"How do I update my email address linked to my bank account?\", \"Account Management\"),\n",
    "  Example(\"I need to change my phone number in your records. How can I do this?\", \"Account Management\"),\n",
    "  Example(\"How can I enroll in mobile banking?\", \"Account Management\"),\n",
    "  Example(\"Is it possible to set up account alerts for transactions?\", \"Account Management\"),\n",
    "  Example(\"Can I add a beneficiary to my account online?\", \"Account Management\"),\n",
    "  Example(\"I've lost my credit card. How do I report it?\", \"Reporting Issues\"),\n",
    "  Example(\"My debit card isn't working for online payments. What should I do?\", \"Reporting Issues\"),\n",
    "  Example(\"There's a suspicious charge on my account. Can you investigate?\", \"Reporting Issues\"),\n",
    "  Example(\"I received a notification for a failed login attempt. Is my account secure?\", \"Reporting Issues\"),\n",
    "  Example(\"My online banking password isn't working. Can you reset it?\", \"Reporting Issues\"),\n",
    "  Example(\"I'm not happy with my current loan terms. Can I refinance?\", \"Loan Services\"),\n",
    "  Example(\"What are the penalties for early mortgage repayment?\", \"Loan Services\"),\n",
    "  Example(\"How do I apply for a loan modification?\", \"Loan Services\"),\n",
    "  Example(\"Can you explain the different types of mortgages you offer?\", \"Loan Services\"),\n",
    "  Example(\"What documents do I need to apply for a personal loan?\", \"Loan Services\")\n",
    "]\n"
   ]
  },
  {
   "cell_type": "code",
   "execution_count": 36,
   "id": "d0a5a83a",
   "metadata": {},
   "outputs": [],
   "source": [
    "inputs=[\" Hi where is my loan hasnt arrived yet. When can it arrive?\",\n",
    "        \" Hi my credit card is frozen for some reason. Why?\"\n",
    "        ]"
   ]
  },
  {
   "cell_type": "code",
   "execution_count": 37,
   "id": "e55c97b2",
   "metadata": {},
   "outputs": [],
   "source": [
    "response = co.classify(  \n",
    "    model='large',  \n",
    "    inputs=inputs,  \n",
    "    examples=examples)\n",
    "\n",
    "#   print(response.classifications)"
   ]
  },
  {
   "cell_type": "markdown",
   "id": "f3032280",
   "metadata": {},
   "source": [
    "#### Astounding classification accuracy"
   ]
  },
  {
   "cell_type": "code",
   "execution_count": 23,
   "id": "aff80cf9",
   "metadata": {},
   "outputs": [
    {
     "name": "stdout",
     "output_type": "stream",
     "text": [
      "[Classification<prediction: \"Loan Services\", confidence: 0.8023058, labels: {'Account Information': LabelPrediction(confidence=0.13611573), 'Account Management': LabelPrediction(confidence=0.01814285), 'Loan Services': LabelPrediction(confidence=0.8023058), 'Reporting Issues': LabelPrediction(confidence=0.04343562)}>, Classification<prediction: \"Reporting Issues\", confidence: 0.99104863, labels: {'Account Information': LabelPrediction(confidence=0.007993013), 'Account Management': LabelPrediction(confidence=0.00010081348), 'Loan Services': LabelPrediction(confidence=0.000857563), 'Reporting Issues': LabelPrediction(confidence=0.99104863)}>]\n"
     ]
    }
   ],
   "source": [
    "print(response.classifications)"
   ]
  },
  {
   "cell_type": "markdown",
   "id": "ac66898e",
   "metadata": {},
   "source": [
    "## Let's see Cohere's embedding length"
   ]
  },
  {
   "cell_type": "code",
   "execution_count": 59,
   "id": "f8785a18",
   "metadata": {},
   "outputs": [],
   "source": [
    "response = co.embed(\n",
    "  texts=inputs,\n",
    "  model='embed-english-v3.0',\n",
    "  input_type='classification'\n",
    ")"
   ]
  },
  {
   "cell_type": "code",
   "execution_count": 63,
   "id": "d6553ff0",
   "metadata": {},
   "outputs": [
    {
     "name": "stdout",
     "output_type": "stream",
     "text": [
      "[-0.023330688, -0.013420105, 0.02015686, 0.002817154, -0.040161133, 0.042175293, -0.017822266, -0.012504578, -0.011810303, 0.042938232]\n"
     ]
    }
   ],
   "source": [
    "print(response.embeddings[0][:10])"
   ]
  },
  {
   "cell_type": "markdown",
   "id": "eac429ad",
   "metadata": {},
   "source": [
    "Pretty long"
   ]
  },
  {
   "cell_type": "code",
   "execution_count": 56,
   "id": "d1f538d5",
   "metadata": {},
   "outputs": [
    {
     "data": {
      "text/plain": [
       "1024"
      ]
     },
     "execution_count": 56,
     "metadata": {},
     "output_type": "execute_result"
    }
   ],
   "source": [
    "len(response.embeddings[0])"
   ]
  }
 ],
 "metadata": {
  "kernelspec": {
   "display_name": "Python 3 (ipykernel)",
   "language": "python",
   "name": "python3"
  },
  "language_info": {
   "codemirror_mode": {
    "name": "ipython",
    "version": 3
   },
   "file_extension": ".py",
   "mimetype": "text/x-python",
   "name": "python",
   "nbconvert_exporter": "python",
   "pygments_lexer": "ipython3",
   "version": "3.9.16"
  }
 },
 "nbformat": 4,
 "nbformat_minor": 5
}
